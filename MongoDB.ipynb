{
 "cells": [
  {
   "cell_type": "code",
   "execution_count": 3,
   "metadata": {},
   "outputs": [],
   "source": [
    "#importing the dataset\n",
    "import pymongo"
   ]
  },
  {
   "cell_type": "code",
   "execution_count": 4,
   "metadata": {},
   "outputs": [],
   "source": [
    "#giving the hostname with ip address\n",
    "#client connection to mongodb\n",
    "client=pymongo.MongoClient('mongodb://127.0.0.1:27017/')"
   ]
  },
  {
   "cell_type": "code",
   "execution_count": 5,
   "metadata": {},
   "outputs": [],
   "source": [
    "#initialising client\n",
    "mydb=client['employee']"
   ]
  },
  {
   "cell_type": "code",
   "execution_count": 56,
   "metadata": {},
   "outputs": [],
   "source": [
    "#creating a collection\n",
    "#collection= Table\n",
    "information=mydb.employeeinformation"
   ]
  },
  {
   "cell_type": "code",
   "execution_count": 5,
   "metadata": {},
   "outputs": [],
   "source": [
    "#creating one document \n",
    "#one doc= one record\n",
    "record={'name':'sheshank','age':23,'location':'hyderabad','company':'capgemini'}"
   ]
  },
  {
   "cell_type": "code",
   "execution_count": 6,
   "metadata": {},
   "outputs": [
    {
     "data": {
      "text/plain": [
       "<pymongo.results.InsertOneResult at 0x2467090ddc8>"
      ]
     },
     "execution_count": 6,
     "metadata": {},
     "output_type": "execute_result"
    }
   ],
   "source": [
    "#inserting the document into the collection\n",
    "information.insert_one(record)"
   ]
  },
  {
   "cell_type": "code",
   "execution_count": 7,
   "metadata": {},
   "outputs": [],
   "source": [
    "#creating multiple document \n",
    "record=([{'name':'aditya','age':22,'location':'bangalore','company':'cognizant'},\n",
    "{'name':'sampreeth','age':25,'location':'mumbai','company':'google'},\n",
    "{'name':'naresh','age':26,'location':'vizag','company':'microsoft'},\n",
    "{'name':'uday','age':28,'location':'pune','company':'amazon'}])"
   ]
  },
  {
   "cell_type": "code",
   "execution_count": 8,
   "metadata": {},
   "outputs": [
    {
     "data": {
      "text/plain": [
       "<pymongo.results.InsertManyResult at 0x2466e60e688>"
      ]
     },
     "execution_count": 8,
     "metadata": {},
     "output_type": "execute_result"
    }
   ],
   "source": [
    "#inserting the documents into the collection\n",
    "information.insert_many(record)"
   ]
  },
  {
   "cell_type": "code",
   "execution_count": 22,
   "metadata": {},
   "outputs": [],
   "source": [
    "record=([{'name':'aditya','age':25,'location':'delhi','company':'cognizant'},\n",
    "{'name':'sampreeth','age':21,'location':'kerla','company':'TechM'},\n",
    "{'name':'naresh','age':29,'location':'kashmir','company':'dominos'},\n",
    "{'name':'uday','age':28,'location':'kochi','company':'dehradun'}])"
   ]
  },
  {
   "cell_type": "code",
   "execution_count": 23,
   "metadata": {},
   "outputs": [
    {
     "data": {
      "text/plain": [
       "<pymongo.results.InsertManyResult at 0x24670a59e08>"
      ]
     },
     "execution_count": 23,
     "metadata": {},
     "output_type": "execute_result"
    }
   ],
   "source": [
    "#inserting the documents into the collection\n",
    "information.insert_many(record)"
   ]
  },
  {
   "cell_type": "code",
   "execution_count": 14,
   "metadata": {},
   "outputs": [
    {
     "data": {
      "text/plain": [
       "{'_id': ObjectId('5eb573b89251a4a7f7e5d653'),\n",
       " 'name': 'sheshank',\n",
       " 'age': 23,\n",
       " 'location': 'hyderabad',\n",
       " 'company': 'capgemini'}"
      ]
     },
     "execution_count": 14,
     "metadata": {},
     "output_type": "execute_result"
    }
   ],
   "source": [
    "#finding the first document from the collection\n",
    "#similar to select first record from information table\n",
    "information.find_one()"
   ]
  },
  {
   "cell_type": "code",
   "execution_count": 32,
   "metadata": {},
   "outputs": [
    {
     "name": "stdout",
     "output_type": "stream",
     "text": [
      "{'_id': ObjectId('5eb573b89251a4a7f7e5d653'), 'name': 'sheshank', 'age': 23, 'location': 'hyderabad', 'company': 'capgemini'}\n",
      "{'_id': ObjectId('5eb574b29251a4a7f7e5d654'), 'name': 'aditya', 'age': 22, 'location': 'bangalore', 'company': 'cognizant'}\n",
      "{'_id': ObjectId('5eb574b29251a4a7f7e5d655'), 'name': 'sampreeth', 'age': 25, 'location': 'mumbai', 'company': 'google'}\n",
      "{'_id': ObjectId('5eb574b29251a4a7f7e5d656'), 'name': 'naresh', 'age': 26, 'location': 'vizag', 'company': 'microsoft'}\n",
      "{'_id': ObjectId('5eb574b29251a4a7f7e5d657'), 'name': 'uday', 'age': 28, 'location': 'pune', 'company': 'amazon'}\n",
      "{'_id': ObjectId('5eb8f70d327f825cdd4454b0'), 'name': 'sheshank', 'age': 23, 'location': 'hyderabad', 'company': 'capgemini'}\n",
      "{'_id': ObjectId('5eb8f70d327f825cdd4454b1'), 'name': 'aditya', 'age': 22, 'location': 'bangalore', 'company': 'cognizant'}\n",
      "{'_id': ObjectId('5eb8f70d327f825cdd4454b2'), 'name': 'sampreeth', 'age': 25, 'location': 'mumbai', 'company': 'google'}\n",
      "{'_id': ObjectId('5eb8f70d327f825cdd4454b3'), 'name': 'naresh', 'age': 26, 'location': 'vizag', 'company': 'microsoft'}\n",
      "{'_id': ObjectId('5eb8f70d327f825cdd4454b4'), 'name': 'uday', 'age': 28, 'location': 'pune', 'company': 'amazon'}\n",
      "{'_id': ObjectId('5eb907a2327f825cdd4454b5'), 'name': 'aditya', 'age': 25, 'location': 'delhi', 'company': 'cognizant'}\n",
      "{'_id': ObjectId('5eb907a2327f825cdd4454b6'), 'name': 'sampreeth', 'age': 21, 'location': 'kerla', 'company': 'TechM'}\n",
      "{'_id': ObjectId('5eb907a2327f825cdd4454b7'), 'name': 'naresh', 'age': 29, 'location': 'kashmir', 'company': 'dominos'}\n",
      "{'_id': ObjectId('5eb907a2327f825cdd4454b8'), 'name': 'uday', 'age': 28, 'location': 'kochi', 'company': 'dehradun'}\n"
     ]
    }
   ],
   "source": [
    "#finding the all documents from the collection\n",
    "#similar to select * from information table\n",
    "for i in information.find():\n",
    "    print(i)"
   ]
  },
  {
   "cell_type": "code",
   "execution_count": 21,
   "metadata": {},
   "outputs": [
    {
     "name": "stdout",
     "output_type": "stream",
     "text": [
      "{'_id': ObjectId('5eb574b29251a4a7f7e5d654'), 'name': 'aditya', 'age': 22, 'location': 'bangalore', 'company': 'cognizant'}\n",
      "{'_id': ObjectId('5eb574b29251a4a7f7e5d656'), 'name': 'naresh', 'age': 26, 'location': 'vizag', 'company': 'microsoft'}\n",
      "{'_id': ObjectId('5eb8f70d327f825cdd4454b1'), 'name': 'aditya', 'age': 22, 'location': 'bangalore', 'company': 'cognizant'}\n",
      "{'_id': ObjectId('5eb8f70d327f825cdd4454b3'), 'name': 'naresh', 'age': 26, 'location': 'vizag', 'company': 'microsoft'}\n"
     ]
    }
   ],
   "source": [
    "#finding a specific documents from the collection whre name is of multiple members\n",
    "#here we are filtering the information collection using two names\n",
    "#similar to select * from information where name=aditya or naresh\n",
    "for i in information.find({\"name\":{'$in':[\"aditya\",\"naresh\"]}}):\n",
    "    print(i)"
   ]
  },
  {
   "cell_type": "code",
   "execution_count": 35,
   "metadata": {},
   "outputs": [
    {
     "name": "stdout",
     "output_type": "stream",
     "text": [
      "{'_id': ObjectId('5eb574b29251a4a7f7e5d654'), 'name': 'aditya', 'age': 22, 'location': 'bangalore', 'company': 'cognizant'}\n",
      "{'_id': ObjectId('5eb574b29251a4a7f7e5d656'), 'name': 'naresh', 'age': 26, 'location': 'vizag', 'company': 'microsoft'}\n",
      "{'_id': ObjectId('5eb8f70d327f825cdd4454b1'), 'name': 'aditya', 'age': 22, 'location': 'bangalore', 'company': 'cognizant'}\n",
      "{'_id': ObjectId('5eb8f70d327f825cdd4454b3'), 'name': 'naresh', 'age': 26, 'location': 'vizag', 'company': 'microsoft'}\n"
     ]
    }
   ],
   "source": [
    "#finding a specific documents from the collection whre location is of multiple values\n",
    "#here we are filtering the information collection using two locations\n",
    "#similar to select * from information where name=bangalore or vizag\n",
    "#$in is an or operation where it tries to find the doc with location bangalore or vizag\n",
    "for i in information.find({\"location\":{'$in':[\"bangalore\",\"vizag\"]}}):\n",
    "    print(i)"
   ]
  },
  {
   "cell_type": "code",
   "execution_count": 36,
   "metadata": {},
   "outputs": [
    {
     "name": "stdout",
     "output_type": "stream",
     "text": [
      "{'_id': ObjectId('5eb574b29251a4a7f7e5d654'), 'name': 'aditya', 'age': 22, 'location': 'bangalore', 'company': 'cognizant'}\n",
      "{'_id': ObjectId('5eb8f70d327f825cdd4454b1'), 'name': 'aditya', 'age': 22, 'location': 'bangalore', 'company': 'cognizant'}\n",
      "{'_id': ObjectId('5eb907a2327f825cdd4454b5'), 'name': 'aditya', 'age': 25, 'location': 'delhi', 'company': 'cognizant'}\n"
     ]
    }
   ],
   "source": [
    "#here we are trying to extract a doc with name \"aditya\" and age is less than 26\n",
    "for i in information.find({\"name\":\"aditya\",'age':{'$lt':26}}):\n",
    "    print(i)"
   ]
  },
  {
   "cell_type": "code",
   "execution_count": 44,
   "metadata": {},
   "outputs": [
    {
     "name": "stdout",
     "output_type": "stream",
     "text": [
      "{'_id': ObjectId('5eb573b89251a4a7f7e5d653'), 'name': 'sheshank', 'age': 23, 'location': 'hyderabad', 'company': 'capgemini'}\n",
      "{'_id': ObjectId('5eb574b29251a4a7f7e5d654'), 'name': 'aditya', 'age': 22, 'location': 'bangalore', 'company': 'cognizant'}\n",
      "{'_id': ObjectId('5eb574b29251a4a7f7e5d655'), 'name': 'sampreeth', 'age': 25, 'location': 'mumbai', 'company': 'google'}\n",
      "{'_id': ObjectId('5eb8f70d327f825cdd4454b0'), 'name': 'sheshank', 'age': 23, 'location': 'hyderabad', 'company': 'capgemini'}\n",
      "{'_id': ObjectId('5eb8f70d327f825cdd4454b1'), 'name': 'aditya', 'age': 22, 'location': 'bangalore', 'company': 'cognizant'}\n",
      "{'_id': ObjectId('5eb8f70d327f825cdd4454b2'), 'name': 'sampreeth', 'age': 25, 'location': 'mumbai', 'company': 'google'}\n",
      "{'_id': ObjectId('5eb907a2327f825cdd4454b5'), 'name': 'aditya', 'age': 25, 'location': 'delhi', 'company': 'cognizant'}\n",
      "{'_id': ObjectId('5eb907a2327f825cdd4454b6'), 'name': 'sampreeth', 'age': 21, 'location': 'kerla', 'company': 'TechM'}\n"
     ]
    }
   ],
   "source": [
    "#we are extrating a doc with name as zameer or a doc whose age is less than 26\n",
    "for i in information.find({\"$or\":[{\"name\":\"zameer\"},{'age':{'$lt':26}}]}):\n",
    "    print(i)"
   ]
  },
  {
   "cell_type": "code",
   "execution_count": 45,
   "metadata": {},
   "outputs": [],
   "source": [
    "#we are extrating a doc with name as zameer or a doc whose age is less than 26\n",
    "#since we dont have any record in the name of zameer this wont print anything\n",
    "\n",
    "for i in information.find({\"$and\":[{\"name\":\"zameer\"},{'age':{'$lt':26}}]}):\n",
    "    print(i)"
   ]
  },
  {
   "cell_type": "code",
   "execution_count": 6,
   "metadata": {},
   "outputs": [],
   "source": [
    "#creating a new collection\n",
    "inventory=mydb.inventory"
   ]
  },
  {
   "cell_type": "code",
   "execution_count": 50,
   "metadata": {},
   "outputs": [
    {
     "data": {
      "text/plain": [
       "<pymongo.results.InsertManyResult at 0x246709614c8>"
      ]
     },
     "execution_count": 50,
     "metadata": {},
     "output_type": "execute_result"
    }
   ],
   "source": [
    "#creating nested doc where one catogory of a doc consists of multiple category values\n",
    "new_record=[{\"item\":'book','quantity':7,\"size\":{\"h\":10,\"w\":12,\"uom\":'cm'},\"poe\":10,\"total\":70},\n",
    "            {\"item\":'pencil','quantity':17,\"size\":{\"h\":10,\"w\":1,\"uom\":'mm'},\"poe\":5,\"total\":85},\n",
    "            {\"item\":'postcard','quantity':13,\"size\":{\"h\":10,\"w\":15,\"uom\":'m'},\"poe\":12,\"total\":156},\n",
    "             {\"item\":'bat','quantity':11,\"size\":{\"h\":100,\"w\":35,\"uom\":'cm'},\"poe\":1000,\"total\":1110}]\n",
    "inventory.insert_many(new_record)"
   ]
  },
  {
   "cell_type": "code",
   "execution_count": 52,
   "metadata": {},
   "outputs": [
    {
     "name": "stdout",
     "output_type": "stream",
     "text": [
      "{'_id': ObjectId('5eb90e5f327f825cdd4454ba'), 'item': 'pencil', 'quantity': 17, 'size': {'h': 10, 'w': 1, 'uom': 'mm'}, 'poe': 5, 'total': 85}\n"
     ]
    }
   ],
   "source": [
    "for i in inventory.find({\"size\":{\"h\":10,\"w\":1,\"uom\":'mm'}}):\n",
    "    print(i)"
   ]
  },
  {
   "cell_type": "code",
   "execution_count": 58,
   "metadata": {},
   "outputs": [],
   "source": [
    "new_record=[{\"item\":'mobile','quantity':22,\"size\":{\"h\":19,\"w\":11,\"uom\":'cm'},\"poe\":10,\"total\":220},\n",
    "            {\"item\":'laptop','quantity':5,\"size\":{\"h\":50,\"w\":40,\"uom\":'mm'},\"poe\":50,\"total\":250},\n",
    "            {\"item\":'telivision','quantity':13,\"size\":{\"h\":100,\"w\":70,\"uom\":'cm'},\"poe\":120,\"total\":1560},\n",
    "             {\"item\":'powerbank','quantity':11,\"size\":{\"h\":10,\"w\":3,\"uom\":'cm'},\"poe\":100,\"total\":1110}]"
   ]
  },
  {
   "cell_type": "code",
   "execution_count": 59,
   "metadata": {},
   "outputs": [
    {
     "data": {
      "text/plain": [
       "<pymongo.results.InsertManyResult at 0x24670955ac8>"
      ]
     },
     "execution_count": 59,
     "metadata": {},
     "output_type": "execute_result"
    }
   ],
   "source": [
    "inventory.insert_many(new_record)"
   ]
  },
  {
   "cell_type": "code",
   "execution_count": 61,
   "metadata": {},
   "outputs": [
    {
     "data": {
      "text/plain": [
       "<pymongo.results.UpdateResult at 0x24670959748>"
      ]
     },
     "execution_count": 61,
     "metadata": {},
     "output_type": "execute_result"
    }
   ],
   "source": [
    "#here we are updating the values \n",
    "#we are updating a record where item is mobile and in it we are changing the nested doc values\n",
    "#we are changing the uom size to \"m\" and \"poe\" to 20\n",
    "inventory.update_one({\"item\":\"mobile\"},{\"$set\":{\"size.oum\":'m',\"poe\":20}})"
   ]
  },
  {
   "cell_type": "code",
   "execution_count": 62,
   "metadata": {},
   "outputs": [
    {
     "data": {
      "text/plain": [
       "<pymongo.results.UpdateResult at 0x24670a58c48>"
      ]
     },
     "execution_count": 62,
     "metadata": {},
     "output_type": "execute_result"
    }
   ],
   "source": [
    "#here we are updating the values \n",
    "#we are updating a record where item is telivision and in it we are changing the nested doc values\n",
    "#we are changing the h size to 70 and \"poe\" to 200\n",
    "#we also added on more field which is the current modified data and time\n",
    "inventory.update_one({\"item\":\"telivision\"},{\"$set\":{\"size.h\":70,\"poe\":200},\"$currentDate\":{\"lastmodified\":True}})"
   ]
  },
  {
   "cell_type": "code",
   "execution_count": 64,
   "metadata": {},
   "outputs": [
    {
     "ename": "SyntaxError",
     "evalue": "invalid syntax (<ipython-input-64-ea003b6296e2>, line 1)",
     "output_type": "error",
     "traceback": [
      "\u001b[1;36m  File \u001b[1;32m\"<ipython-input-64-ea003b6296e2>\"\u001b[1;36m, line \u001b[1;32m1\u001b[0m\n\u001b[1;33m    inventory.update_one({\"item\":all},\"$currentDate\":{\"lastmodified\":True})\u001b[0m\n\u001b[1;37m                                                    ^\u001b[0m\n\u001b[1;31mSyntaxError\u001b[0m\u001b[1;31m:\u001b[0m invalid syntax\n"
     ]
    }
   ],
   "source": [
    "inventory.update_one({\"item\":all},\"$currentDate\":{\"lastmodified\":True})"
   ]
  },
  {
   "cell_type": "code",
   "execution_count": 67,
   "metadata": {},
   "outputs": [
    {
     "data": {
      "text/plain": [
       "<pymongo.results.UpdateResult at 0x24670aca748>"
      ]
     },
     "execution_count": 67,
     "metadata": {},
     "output_type": "execute_result"
    }
   ],
   "source": [
    "inventory.update_many({\"poe\":{\"$lt\":200}},{\"$set\":{\"size.h\":50,\"poe\":20},\"$currentDate\":{\"lastmodified\":True}})"
   ]
  },
  {
   "cell_type": "code",
   "execution_count": null,
   "metadata": {},
   "outputs": [],
   "source": [
    "pipeline={}"
   ]
  }
 ],
 "metadata": {
  "kernelspec": {
   "display_name": "Python 3",
   "language": "python",
   "name": "python3"
  }
 },
 "nbformat": 4,
 "nbformat_minor": 4
}
